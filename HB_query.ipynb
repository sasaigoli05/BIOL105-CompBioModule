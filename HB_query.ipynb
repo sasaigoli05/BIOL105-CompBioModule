{
  "nbformat": 4,
  "nbformat_minor": 0,
  "metadata": {
    "colab": {
      "provenance": [],
      "authorship_tag": "ABX9TyP6M5wmhaZAj8uZ0Jxsm3L2",
      "include_colab_link": true
    },
    "kernelspec": {
      "name": "python3",
      "display_name": "Python 3"
    },
    "language_info": {
      "name": "python"
    }
  },
  "cells": [
    {
      "cell_type": "markdown",
      "metadata": {
        "id": "view-in-github",
        "colab_type": "text"
      },
      "source": [
        "<a href=\"https://colab.research.google.com/github/sasaigoli05/BIOL105-CompBioModule/blob/main/HB_query.ipynb\" target=\"_parent\"><img src=\"https://colab.research.google.com/assets/colab-badge.svg\" alt=\"Open In Colab\"/></a>"
      ]
    },
    {
      "cell_type": "code",
      "source": [
        "#@title STEP 0: Install Dependencies (Hit PLay)\n",
        "#@title Dictionary of basic (positively charged), acidic (negatively charged), and neutral residues { display-mode: \"form\" }\n",
        "residue_charge = {\n",
        "    'K': 'positive',  # Lysine\n",
        "    'R': 'positive',  # Arginine\n",
        "    'H': 'positive',  # Histidine (partially positive at physiological pH)\n",
        "    'D': 'negative',  # Aspartic acid\n",
        "    'E': 'negative',  # Glutamic acid\n",
        "    'A': 'neutral',  # Alanine\n",
        "    'G': 'neutral',  # Glycine\n",
        "    'V': 'neutral',  # Valine\n",
        "    'L': 'neutral',  # Leucine\n",
        "    'I': 'neutral',  # Isoleucine\n",
        "    'P': 'neutral',  # Proline\n",
        "    'F': 'neutral',  # Phenylalanine\n",
        "    'M': 'neutral',  # Methionine\n",
        "    'W': 'neutral',  # Tryptophan\n",
        "    'S': 'neutral',  # Serine\n",
        "    'T': 'neutral',  # Threonine\n",
        "    'C': 'neutral',  # Cysteine (neutral, though can form disulfide bonds)\n",
        "    'N': 'neutral',  # Asparagine\n",
        "    'Q': 'neutral',  # Glutamine\n",
        "    'Y': 'neutral'   # Tyrosine (polar, but neutral at physiological pH)\n",
        "}\n",
        "\n",
        "# Example central region (modify this based on structural data)\n",
        "central_region_start = 6  # Starting index for central region\n",
        "central_region_end = 10    # Ending index for central region\n",
        "\n",
        "# Extract the central region where 2,3-BPG binds\n",
        "central_region = mutant_sequence[central_region_start:central_region_end]\n",
        "\n",
        "# Fictional binding score calculation\n",
        "def calculate_binding_score(sequence):\n",
        "    positive_count = sum([1 for residue in sequence if residue in ['K', 'R', 'H']])\n",
        "    negative_count = sum([1 for residue in sequence if residue in ['D', 'E']])\n",
        "\n",
        "    # Simulate a \"better\" binding score if there are more negative than positive residues\n",
        "    score = 100 - (positive_count * 10) + (negative_count * 5)\n",
        "\n",
        "    return score\n",
        "\n"
      ],
      "metadata": {
        "cellView": "form",
        "id": "W0YwlL742ZrS"
      },
      "execution_count": 29,
      "outputs": []
    },
    {
      "cell_type": "markdown",
      "source": [
        "# **STEP 1**\n",
        "## Input the hemoglobin protein sequence, and identify the amino acids corresponding to the core of the protein (where O2 or 2,3-BPG will bind)"
      ],
      "metadata": {
        "id": "VPjo89-Y2fiO"
      }
    },
    {
      "cell_type": "code",
      "execution_count": 31,
      "metadata": {
        "colab": {
          "base_uri": "https://localhost:8080/"
        },
        "id": "GqTEpGAK2UIO",
        "outputId": "473ab7dd-b3ee-4aa6-ff54-2ac7ec271855"
      },
      "outputs": [
        {
          "output_type": "stream",
          "name": "stdout",
          "text": [
            "Central region sequence: RRRR\n"
          ]
        }
      ],
      "source": [
        "# Input your mutant hemoglobin beta chain sequence here\n",
        "mutant_sequence = \"MKTFFSRRRRVLMG\"  # Replace this with the mutant sequence\n",
        "\n",
        "# Output the central region\n",
        "print(\"Central region sequence:\", central_region)\n"
      ]
    },
    {
      "cell_type": "markdown",
      "source": [
        "# **STEP 2**\n",
        "## Print which of the core amino acids are positive vs negative"
      ],
      "metadata": {
        "id": "tBAZ7PHo20Op"
      }
    },
    {
      "cell_type": "code",
      "source": [
        "# Main code that students can modify\n",
        "def classify_residues(sequence):\n",
        "    charges = []\n",
        "    for residue in sequence:\n",
        "        if residue in residue_charge:\n",
        "            charges.append(f\"{residue} ({residue_charge[residue]})\")\n",
        "        else:\n",
        "            charges.append(f\"{residue} (neutral)\")  # Other residues assumed neutral\n",
        "    return charges\n",
        "\n",
        "# Classify the central region residues\n",
        "classified_residues = classify_residues(central_region)\n",
        "\n",
        "# Output the classified residues\n",
        "print(\"Classified central residues:\", classified_residues)\n"
      ],
      "metadata": {
        "colab": {
          "base_uri": "https://localhost:8080/"
        },
        "id": "5z5o5ye36MPx",
        "outputId": "9bdf273c-91ec-499d-c6df-270afe6bdd0d"
      },
      "execution_count": 32,
      "outputs": [
        {
          "output_type": "stream",
          "name": "stdout",
          "text": [
            "Classified central residues: ['R (positive)', 'R (positive)', 'R (positive)', 'R (positive)']\n"
          ]
        }
      ]
    },
    {
      "cell_type": "markdown",
      "source": [
        "#**STEP 3**"
      ],
      "metadata": {
        "id": "fARMpaBo4XEo"
      }
    },
    {
      "cell_type": "code",
      "source": [
        "#@title Predict Binding to Oxygen { display-mode: \"form\"}\n",
        "# Ask the student to input their modified sequence\n",
        "sequence = 'MKTFFSEEEEVLMG' #@param {type:\"string\"}\n"
      ],
      "metadata": {
        "id": "xANuux0U4Twn"
      },
      "execution_count": 27,
      "outputs": []
    },
    {
      "cell_type": "code",
      "source": [
        "# Calculate the score for the modified sequence entered by the student\n",
        "binding_score = calculate_binding_score(sequence)\n",
        "\n",
        "# Output the fictional binding feedback\n",
        "print(f\"Your new sequence has a binding score of {binding_score}.\")\n",
        "print(\"A higher score means better oxygen binding!\")\n"
      ],
      "metadata": {
        "colab": {
          "base_uri": "https://localhost:8080/"
        },
        "id": "N9TtfDzL9JKB",
        "outputId": "889e3f3d-c512-461e-9c79-9bb3ace6256e"
      },
      "execution_count": 30,
      "outputs": [
        {
          "output_type": "stream",
          "name": "stdout",
          "text": [
            "Your new sequence has a binding score of 110.\n",
            "A higher score means better oxygen binding!\n"
          ]
        }
      ]
    }
  ]
}